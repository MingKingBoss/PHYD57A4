{
 "cells": [
  {
   "cell_type": "code",
   "execution_count": 2,
   "id": "bdc761cd",
   "metadata": {},
   "outputs": [],
   "source": [
    "import numpy as np\n",
    "import scipy\n",
    "from scipy.linalg import solve \n",
    "import matplotlib.pyplot as plt"
   ]
  },
  {
   "cell_type": "code",
   "execution_count": 98,
   "id": "c9d0b695",
   "metadata": {},
   "outputs": [
    {
     "name": "stdout",
     "output_type": "stream",
     "text": [
      "280\n",
      "368\n"
     ]
    }
   ],
   "source": [
    "N=1000\n",
    "l_wing_range=int(1055/3755*N)\n",
    "fule_range=int(1385*N/3755)\n",
    "half=int(N/2)\n",
    "print(l_wing_range)\n",
    "print(fule_range)\n",
    "wing_span=37.5\n",
    "aoa=2/180*np.pi\n",
    "Uinf=150\n",
    "dy=(wing_span)/N"
   ]
  },
  {
   "cell_type": "code",
   "execution_count": 99,
   "id": "e6ad9530",
   "metadata": {},
   "outputs": [],
   "source": [
    "BC=np.zeros((N,2),dtype=np.float64)\n",
    "LL=np.zeros((N,2),dtype=np.float64)\n",
    "b=np.zeros(N,dtype=np.float64)\n",
    "chord=np.zeros(N,dtype=np.float64)\n",
    "LE_slope=np.tan(50*np.pi/180)\n",
    "LL_slope=np.tan(27*np.pi/180)+0.75*(np.tan(50*np.pi/180)-np.tan(27*np.pi/180))\n",
    "BC_slope=np.tan(27*np.pi/180)+0.25*(np.tan(50*np.pi/180)-np.tan(27*np.pi/180))\n",
    "for i in range(half):\n",
    "    chord[i]=2+i*2*(LL_slope-BC_slope)*dy\n",
    "    chord[N-i-1]=chord[i]+2*(LL_slope-BC_slope)*dy\n",
    "    BC[i,0]=-wing_span/2+(0.5+i)*dy\n",
    "    BC[i,1]=(0.5+i)*dy*BC_slope\n",
    "    BC[N-i-1,0]=-wing_span/2+(0.5+N-i-1)*dy\n",
    "    BC[N-i-1,1]=BC[i,1]+dy*BC_slope\n",
    "    LL[i,0]=BC[i,0]-dy/2\n",
    "    LL[i,1]=i*dy*LL_slope+chord[i]/2\n",
    "    LL[N-i-1,0]=-wing_span/2+(N-i-1)*dy\n",
    "    LL[N-i-1,1]=LL[i,1]+dy*LL_slope\n",
    "    #print(BC[i,0])\n",
    "    #print(LL[i,0])\n",
    "    b[i]=Uinf*aoa\n",
    "    b[N-i-1]=Uinf*aoa"
   ]
  },
  {
   "cell_type": "code",
   "execution_count": 100,
   "id": "4fe5eabf",
   "metadata": {},
   "outputs": [],
   "source": [
    "#Bound\n",
    "A=np.zeros((N,N),dtype=np.float64)\n",
    "#Induced\n",
    "for j in range(N):\n",
    "    for i in range(half):\n",
    "        d_l=BC[j,0]-LL[i,0]\n",
    "        d_r=BC[j,0]-LL[N-i-1,0]\n",
    "        cb_l=(LL[i,1]-BC[j,1])/((d_l*d_l+(LL[i,1]-BC[j,1])**2)**0.5)\n",
    "        #cb_2=(LL[i,1]-0.75*chord[i]-BC[j,1])/((d*d+(LL[i,1]-0.75*chord[i]-BC[j,1])**2)**0.5)\n",
    "        cb_2=-1\n",
    "        cb_r=(LL[N-i-1,1]-BC[j,1])/((d_r*d_r+(LL[N-i-1,1]-BC[j,1])**2)**0.5)\n",
    "        A[j,i]-=(cb_l-cb_2)*dy/(4*np.pi*d_l)\n",
    "        A[j,N-i-1]+=(cb_r-cb_2)*dy/(4*np.pi*d_r)\n",
    "for j in range(N):\n",
    "    for i in range(half):\n",
    "        '''d1_left=(pow(BC[j,0]-LL[i,0],2)+pow(BC[j,1]-LL[i,1],2))**0.5\n",
    "        d1_right=(pow(BC[j,0]-LL[N-i-1,0],2)+pow(BC[j,1]-LL[N-1-i,1],2))**0.5\n",
    "        dp1_left=(BC[j,0]-LL[i,0])*dy+(BC[j,1]-LL[i,1])*dy*LL_slope\n",
    "        dp1_right=(BC[j,0]-LL[N-i-1,0])*dy-(BC[j,1]-LL[N-i-1,1])*dy*LL_slope\n",
    "        if (i!=0):\n",
    "            d2_left=(pow(BC[j,0]-LL[i+1,0],2)+pow(BC[j,1]-LL[i+1,1],2))**0.5\n",
    "            d2_right=(pow(BC[j,0]-LL[N-i,0],2)+pow(BC[j,1]-LL[N-i,1],2))**0.5\n",
    "            dp2_left=(BC[j,0]-LL[i+1,0])*dy+(BC[j,1]-LL[i+1,1])*dy*LL_slope\n",
    "            dp2_right=(BC[j,0]-LL[N-i,0])*dy-(BC[j,1]-LL[N-i,1])*dy*LL_slope\n",
    "        else:\n",
    "            d2_left=(pow(BC[j,0]-LL[1,0],2)+pow(BC[j,1]-LL[1,1],2))**0.5\n",
    "            d2_right=(pow(BC[j,0]-wing_span/2,2)+pow(BC[j,1]-1.0,2))**0.5\n",
    "            dp2_left=(BC[j,0]-LL[1,0])*dy+(BC[j,1]-LL[1,1])*dy*LL_slope\n",
    "            dp2_right=(BC[j,0]-wing_span/2)*dy-(BC[j,1]-1.0)*dy*LL_slope\n",
    "            \n",
    "        cb_1_l=dp1_left/(dy*((1+LL_slope*LL_slope)**0.5)*d1_left)\n",
    "        cb_2_l=dp2_left/(dy*((1+LL_slope*LL_slope)**0.5)*d2_left)\n",
    "        cb_1_r=dp1_right/(dy*((1+LL_slope*LL_slope)**0.5)*d1_right)\n",
    "        cb_2_r=dp2_right/(dy*((1+LL_slope*LL_slope)**0.5)*d2_right)\n",
    "        A[j,i]-=dy*(cb_1_l-cb_2_l)/(2*np.pi*chord[j])\n",
    "        A[j,N-1-i]+=dy*(cb_1_r-cb_2_r)/(2*np.pi*chord[j])'''\n",
    "        dl=(pow(BC[j,0]-LL[i,0],2)+pow(BC[j,1]-LL[i,1],2))**0.5\n",
    "        dr=(pow(BC[j,0]-LL[N-i-1,0],2)+pow(BC[j,1]-LL[N-1-i,1],2))**0.5\n",
    "        dm_l=(pow(BC[j,0]-LL[half-1,0],2)+pow(BC[j,1]-LL[half-1,1],2))**0.5\n",
    "        dm_r=(pow(BC[j,0]-LL[half,0],2)+pow(BC[j,1]-LL[half,1],2))**0.5\n",
    "        dp_middle_l=(BC[j,0]-LL[half-1,0])*dy+(BC[j,1]-LL[half-1,1])*dy*LL_slope\n",
    "        dp_middle_r=(BC[j,0]-LL[half,0])*dy-(BC[j,1]-LL[half,1])*dy*LL_slope\n",
    "        dp_left=(BC[j,0]-LL[i,0])*dy+(BC[j,1]-LL[i,1])*dy*LL_slope\n",
    "        dp_right=(BC[j,0]-LL[N-i-1,0])*dy-(BC[j,1]-LL[N-i-1,1])*dy*LL_slope\n",
    "        cb_l=dp_left/(dy*((1+LL_slope*LL_slope)**0.5)*dl)\n",
    "        cb_r=dp_right/(dy*((1+LL_slope*LL_slope)**0.5)*dr)\n",
    "        cb_ml=dp_middle_l/(dy*((1+LL_slope*LL_slope)**0.5)*dm_l)\n",
    "        cb_mr=dp_middle_r/(dy*((1+LL_slope*LL_slope)**0.5)*dm_r)\n",
    "        A[j,i]+=dy*(cb_l-cb_ml)/(2*np.pi*chord[j])\n",
    "        A[j,N-i-1]-=dy*(cb_r-cb_mr)/(2*np.pi*chord[j])"
   ]
  },
  {
   "cell_type": "code",
   "execution_count": 101,
   "id": "480a3948",
   "metadata": {},
   "outputs": [
    {
     "data": {
      "text/plain": [
       "12.862021410337853"
      ]
     },
     "execution_count": 101,
     "metadata": {},
     "output_type": "execute_result"
    }
   ],
   "source": [
    "b=np.asarray(b)\n",
    "gamma1=np.linalg.solve(A,b)\n",
    "np.linalg.cond(A)"
   ]
  },
  {
   "cell_type": "code",
   "execution_count": 103,
   "id": "51564355",
   "metadata": {},
   "outputs": [
    {
     "data": {
      "text/plain": [
       "[<matplotlib.lines.Line2D at 0x711305f785e0>]"
      ]
     },
     "execution_count": 103,
     "metadata": {},
     "output_type": "execute_result"
    },
    {
     "data": {
      "image/png": "[encoded data removed]",
      "text/plain": [
       "<Figure size 432x288 with 1 Axes>"
      ]
     },
     "metadata": {
      "needs_background": "light"
     },
     "output_type": "display_data"
    }
   ],
   "source": [
    "plt.plot(np.cumsum(gamma1)*dy)"
   ]
  },
  {
   "cell_type": "code",
   "execution_count": 77,
   "id": "f48d9f1e",
   "metadata": {},
   "outputs": [
    {
     "data": {
      "text/plain": [
       "[<matplotlib.lines.Line2D at 0x7113114f1d90>]"
      ]
     },
     "execution_count": 77,
     "metadata": {},
     "output_type": "execute_result"
    },
    {
     "data": {
      "image/png": "[encoded data removed]",
      "text/plain": [
       "<Figure size 432x288 with 1 Axes>"
      ]
     },
     "metadata": {
      "needs_background": "light"
     },
     "output_type": "display_data"
    }
   ],
   "source": []
  },
  {
   "cell_type": "code",
   "execution_count": null,
   "id": "bf81cfc5",
   "metadata": {},
   "outputs": [],
   "source": []
  }
 ],
 "metadata": {
  "kernelspec": {
   "display_name": "Python 3 (ipykernel)",
   "language": "python",
   "name": "python3"
  },
  "language_info": {
   "codemirror_mode": {
    "name": "ipython",
    "version": 3
   },
   "file_extension": ".py",
   "mimetype": "text/x-python",
   "name": "python",
   "nbconvert_exporter": "python",
   "pygments_lexer": "ipython3",
   "version": "3.9.7"
  }
 },
 "nbformat": 4,
 "nbformat_minor": 5
}
